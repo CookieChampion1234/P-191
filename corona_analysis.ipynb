{
 "cells": [
  {
   "cell_type": "raw",
   "metadata": {},
   "source": []
  },
  {
   "cell_type": "code",
   "execution_count": 1,
   "metadata": {
    "scrolled": false
   },
   "outputs": [
    {
     "name": "stdout",
     "output_type": "stream",
     "text": [
      "Name : Swarnim Nipankar\n",
      "This is a CSV of more than 200 rows which has Covid data.\n",
      "The task is to find out top 5 the countries who are least affected by covid\n",
      "Another task is to find out top 5 the countries who has the maximum number of deaths\n",
      "Another task is to find out top 5 the countries who has the maximum number of active cases\n"
     ]
    }
   ],
   "source": [
    "print(\"Name : Swarnim Nipankar\")\n",
    "print(\"This is a CSV of more than 200 rows which has Covid data.\")\n",
    "print(\"The task is to find out top 5 the countries who are least affected by covid\")\n",
    "print(\"Another task is to find out top 5 the countries who has the maximum number of deaths\")\n",
    "print(\"Another task is to find out top 5 the countries who has the maximum number of active cases\")\n"
   ]
  },
  {
   "cell_type": "code",
   "execution_count": 2,
   "metadata": {},
   "outputs": [
    {
     "data": {
      "text/html": [
       "<div>\n",
       "<style scoped>\n",
       "    .dataframe tbody tr th:only-of-type {\n",
       "        vertical-align: middle;\n",
       "    }\n",
       "\n",
       "    .dataframe tbody tr th {\n",
       "        vertical-align: top;\n",
       "    }\n",
       "\n",
       "    .dataframe thead th {\n",
       "        text-align: right;\n",
       "    }\n",
       "</style>\n",
       "<table border=\"1\" class=\"dataframe\">\n",
       "  <thead>\n",
       "    <tr style=\"text-align: right;\">\n",
       "      <th></th>\n",
       "      <th>country</th>\n",
       "      <th>total_cases</th>\n",
       "      <th>new_cases</th>\n",
       "      <th>total_deaths</th>\n",
       "      <th>new_deaths</th>\n",
       "      <th>total_recovered</th>\n",
       "      <th>active_cases</th>\n",
       "      <th>active_critical</th>\n",
       "      <th>total_tests</th>\n",
       "      <th>population</th>\n",
       "    </tr>\n",
       "  </thead>\n",
       "  <tbody>\n",
       "    <tr>\n",
       "      <th>0</th>\n",
       "      <td>USA</td>\n",
       "      <td>1621196</td>\n",
       "      <td>294</td>\n",
       "      <td>96359</td>\n",
       "      <td>5.0</td>\n",
       "      <td>382244</td>\n",
       "      <td>1142593</td>\n",
       "      <td>17907</td>\n",
       "      <td>13479242</td>\n",
       "      <td>330790544</td>\n",
       "    </tr>\n",
       "    <tr>\n",
       "      <th>1</th>\n",
       "      <td>Russia</td>\n",
       "      <td>326448</td>\n",
       "      <td>8894</td>\n",
       "      <td>3249</td>\n",
       "      <td>150.0</td>\n",
       "      <td>99825</td>\n",
       "      <td>223374</td>\n",
       "      <td>2300</td>\n",
       "      <td>8126626</td>\n",
       "      <td>145927804</td>\n",
       "    </tr>\n",
       "    <tr>\n",
       "      <th>2</th>\n",
       "      <td>Brazil</td>\n",
       "      <td>310921</td>\n",
       "      <td>0</td>\n",
       "      <td>20082</td>\n",
       "      <td>0.0</td>\n",
       "      <td>125960</td>\n",
       "      <td>164879</td>\n",
       "      <td>8318</td>\n",
       "      <td>735224</td>\n",
       "      <td>212393298</td>\n",
       "    </tr>\n",
       "    <tr>\n",
       "      <th>3</th>\n",
       "      <td>Spain</td>\n",
       "      <td>280117</td>\n",
       "      <td>0</td>\n",
       "      <td>27940</td>\n",
       "      <td>0.0</td>\n",
       "      <td>196958</td>\n",
       "      <td>55219</td>\n",
       "      <td>1152</td>\n",
       "      <td>3037840</td>\n",
       "      <td>46752851</td>\n",
       "    </tr>\n",
       "    <tr>\n",
       "      <th>4</th>\n",
       "      <td>UK</td>\n",
       "      <td>250908</td>\n",
       "      <td>0</td>\n",
       "      <td>36042</td>\n",
       "      <td>0.0</td>\n",
       "      <td>1918</td>\n",
       "      <td>212948</td>\n",
       "      <td>1559</td>\n",
       "      <td>3090566</td>\n",
       "      <td>67847158</td>\n",
       "    </tr>\n",
       "    <tr>\n",
       "      <th>...</th>\n",
       "      <td>...</td>\n",
       "      <td>...</td>\n",
       "      <td>...</td>\n",
       "      <td>...</td>\n",
       "      <td>...</td>\n",
       "      <td>...</td>\n",
       "      <td>...</td>\n",
       "      <td>...</td>\n",
       "      <td>...</td>\n",
       "      <td>...</td>\n",
       "    </tr>\n",
       "    <tr>\n",
       "      <th>208</th>\n",
       "      <td>St. Barth</td>\n",
       "      <td>6</td>\n",
       "      <td>0</td>\n",
       "      <td>0</td>\n",
       "      <td>0.0</td>\n",
       "      <td>6</td>\n",
       "      <td>0</td>\n",
       "      <td>0</td>\n",
       "      <td>0</td>\n",
       "      <td>9874</td>\n",
       "    </tr>\n",
       "    <tr>\n",
       "      <th>209</th>\n",
       "      <td>Western Sahara</td>\n",
       "      <td>6</td>\n",
       "      <td>0</td>\n",
       "      <td>0</td>\n",
       "      <td>0.0</td>\n",
       "      <td>6</td>\n",
       "      <td>0</td>\n",
       "      <td>0</td>\n",
       "      <td>0</td>\n",
       "      <td>595583</td>\n",
       "    </tr>\n",
       "    <tr>\n",
       "      <th>210</th>\n",
       "      <td>Anguilla</td>\n",
       "      <td>3</td>\n",
       "      <td>0</td>\n",
       "      <td>0</td>\n",
       "      <td>0.0</td>\n",
       "      <td>3</td>\n",
       "      <td>0</td>\n",
       "      <td>0</td>\n",
       "      <td>0</td>\n",
       "      <td>14988</td>\n",
       "    </tr>\n",
       "    <tr>\n",
       "      <th>211</th>\n",
       "      <td>Lesotho</td>\n",
       "      <td>1</td>\n",
       "      <td>0</td>\n",
       "      <td>0</td>\n",
       "      <td>0.0</td>\n",
       "      <td>0</td>\n",
       "      <td>1</td>\n",
       "      <td>0</td>\n",
       "      <td>0</td>\n",
       "      <td>2140374</td>\n",
       "    </tr>\n",
       "    <tr>\n",
       "      <th>212</th>\n",
       "      <td>Saint Pierre Miquelon</td>\n",
       "      <td>1</td>\n",
       "      <td>0</td>\n",
       "      <td>0</td>\n",
       "      <td>0.0</td>\n",
       "      <td>1</td>\n",
       "      <td>0</td>\n",
       "      <td>0</td>\n",
       "      <td>0</td>\n",
       "      <td>5797</td>\n",
       "    </tr>\n",
       "  </tbody>\n",
       "</table>\n",
       "<p>213 rows × 10 columns</p>\n",
       "</div>"
      ],
      "text/plain": [
       "                   country  total_cases new_cases  total_deaths  new_deaths  \\\n",
       "0                      USA      1621196       294         96359         5.0   \n",
       "1                   Russia       326448      8894          3249       150.0   \n",
       "2                   Brazil       310921         0         20082         0.0   \n",
       "3                    Spain       280117         0         27940         0.0   \n",
       "4                       UK       250908         0         36042         0.0   \n",
       "..                     ...          ...       ...           ...         ...   \n",
       "208              St. Barth            6         0             0         0.0   \n",
       "209         Western Sahara            6         0             0         0.0   \n",
       "210               Anguilla            3         0             0         0.0   \n",
       "211                Lesotho            1         0             0         0.0   \n",
       "212  Saint Pierre Miquelon            1         0             0         0.0   \n",
       "\n",
       "     total_recovered  active_cases  active_critical  total_tests  population  \n",
       "0             382244       1142593            17907     13479242   330790544  \n",
       "1              99825        223374             2300      8126626   145927804  \n",
       "2             125960        164879             8318       735224   212393298  \n",
       "3             196958         55219             1152      3037840    46752851  \n",
       "4               1918        212948             1559      3090566    67847158  \n",
       "..               ...           ...              ...          ...         ...  \n",
       "208                6             0                0            0        9874  \n",
       "209                6             0                0            0      595583  \n",
       "210                3             0                0            0       14988  \n",
       "211                0             1                0            0     2140374  \n",
       "212                1             0                0            0        5797  \n",
       "\n",
       "[213 rows x 10 columns]"
      ]
     },
     "execution_count": 2,
     "metadata": {},
     "output_type": "execute_result"
    }
   ],
   "source": [
    "#Provide Data \n",
    "import  numpy as np\n",
    "import pandas as pd\n",
    "from matplotlib import pyplot as plt\n",
    "\n",
    "\n",
    "dataframe = pd.read_csv('covid19.csv')\n",
    "df = dataframe.dropna()\n",
    "df"
   ]
  },
  {
   "cell_type": "code",
   "execution_count": 3,
   "metadata": {},
   "outputs": [
    {
     "name": "stdout",
     "output_type": "stream",
     "text": [
      "                   country  total_cases new_cases  total_deaths  new_deaths  \\\n",
      "212  Saint Pierre Miquelon            1         0             0         0.0   \n",
      "211                Lesotho            1         0             0         0.0   \n",
      "210               Anguilla            3         0             0         0.0   \n",
      "207  Caribbean Netherlands            6         0             0         0.0   \n",
      "209         Western Sahara            6         0             0         0.0   \n",
      "..                     ...          ...       ...           ...         ...   \n",
      "4                       UK       250908         0         36042         0.0   \n",
      "3                    Spain       280117         0         27940         0.0   \n",
      "2                   Brazil       310921         0         20082         0.0   \n",
      "1                   Russia       326448      8894          3249       150.0   \n",
      "0                      USA      1621196       294         96359         5.0   \n",
      "\n",
      "     total_recovered  active_cases  active_critical  total_tests  population  \n",
      "212                1             0                0            0        5797  \n",
      "211                0             1                0            0     2140374  \n",
      "210                3             0                0            0       14988  \n",
      "207                6             0                0          424       26196  \n",
      "209                6             0                0            0      595583  \n",
      "..               ...           ...              ...          ...         ...  \n",
      "4               1918        212948             1559      3090566    67847158  \n",
      "3             196958         55219             1152      3037840    46752851  \n",
      "2             125960        164879             8318       735224   212393298  \n",
      "1              99825        223374             2300      8126626   145927804  \n",
      "0             382244       1142593            17907     13479242   330790544  \n",
      "\n",
      "[213 rows x 10 columns]\n"
     ]
    }
   ],
   "source": [
    "#Task 1 \n",
    "#Sort the data as per total number of cases\n",
    "sorted_cases_df = df.sort_values(by=['total_cases'])\n",
    "print(sorted_cases_df)"
   ]
  },
  {
   "cell_type": "code",
   "execution_count": 4,
   "metadata": {},
   "outputs": [
    {
     "name": "stdout",
     "output_type": "stream",
     "text": [
      "                   country  total_cases new_cases  total_deaths  new_deaths  \\\n",
      "212  Saint Pierre Miquelon            1         0             0         0.0   \n",
      "211                Lesotho            1         0             0         0.0   \n",
      "210               Anguilla            3         0             0         0.0   \n",
      "207  Caribbean Netherlands            6         0             0         0.0   \n",
      "209         Western Sahara            6         0             0         0.0   \n",
      "\n",
      "     total_recovered  active_cases  active_critical  total_tests  population  \n",
      "212                1             0                0            0        5797  \n",
      "211                0             1                0            0     2140374  \n",
      "210                3             0                0            0       14988  \n",
      "207                6             0                0          424       26196  \n",
      "209                6             0                0            0      595583  \n"
     ]
    },
    {
     "data": {
      "image/png": "[encoded data removed]",
      "text/plain": [
       "<Figure size 432x288 with 1 Axes>"
      ]
     },
     "metadata": {
      "needs_background": "light"
     },
     "output_type": "display_data"
    }
   ],
   "source": [
    "#Task 2\n",
    "#Get top 5 countries who has the least number of cases and plot a bar graph\n",
    "least_cases = sorted_cases_df.head(5)\n",
    "print(least_cases)\n",
    "\n",
    "name = least_cases[\"country\"]\n",
    "number = least_cases[\"total_cases\"]\n",
    "\n",
    "label = name\n",
    "value = number\n",
    "\n",
    "plt.xlabel(\"Countries\")\n",
    "plt.xticks(rotation='vertical')\n",
    "plt.ylabel(\"Number of COVID-19 Cases\")\n",
    "\n",
    "plt.bar(label,value,width=0.5,color=('orange','lightgreen','grey','black','red'))\n",
    "plt.show()"
   ]
  },
  {
   "cell_type": "code",
   "execution_count": 5,
   "metadata": {},
   "outputs": [
    {
     "name": "stdout",
     "output_type": "stream",
     "text": [
      "                   country  total_cases new_cases  total_deaths  new_deaths  \\\n",
      "212  Saint Pierre Miquelon            1         0             0         0.0   \n",
      "190                   Fiji           18         0             0         0.0   \n",
      "188                   Laos           19         0             0         0.0   \n",
      "132                    CAR          436         0             0         0.0   \n",
      "187                 Bhutan           21         0             0         0.0   \n",
      "..                     ...          ...       ...           ...         ...   \n",
      "3                    Spain       280117         0         27940         0.0   \n",
      "6                   France       181826         0         28215         0.0   \n",
      "5                    Italy       228006         0         32486         0.0   \n",
      "4                       UK       250908         0         36042         0.0   \n",
      "0                      USA      1621196       294         96359         5.0   \n",
      "\n",
      "     total_recovered  active_cases  active_critical  total_tests  population  \n",
      "212                1             0                0            0        5797  \n",
      "190               15             3                0         1300      895730  \n",
      "188               14             5                0         5044     7263530  \n",
      "132               18           418                0        11294     4820066  \n",
      "187                6            15                0        14843      770656  \n",
      "..               ...           ...              ...          ...         ...  \n",
      "3             196958         55219             1152      3037840    46752851  \n",
      "6              63858         89753             1745      1384633    65258007  \n",
      "5             134560         60960              640      3243398    60471198  \n",
      "4               1918        212948             1559      3090566    67847158  \n",
      "0             382244       1142593            17907     13479242   330790544  \n",
      "\n",
      "[213 rows x 10 columns]\n"
     ]
    }
   ],
   "source": [
    "#Task 3\n",
    "#Sort the data as per total number of deaths\n",
    "sorted_deaths_df = df.sort_values(by=['total_deaths'])\n",
    "print(sorted_deaths_df)"
   ]
  },
  {
   "cell_type": "code",
   "execution_count": 6,
   "metadata": {},
   "outputs": [
    {
     "name": "stdout",
     "output_type": "stream",
     "text": [
      "  country  total_cases new_cases  total_deaths  new_deaths  total_recovered  \\\n",
      "3   Spain       280117         0         27940         0.0           196958   \n",
      "6  France       181826         0         28215         0.0            63858   \n",
      "5   Italy       228006         0         32486         0.0           134560   \n",
      "4      UK       250908         0         36042         0.0             1918   \n",
      "0     USA      1621196       294         96359         5.0           382244   \n",
      "\n",
      "   active_cases  active_critical  total_tests  population  \n",
      "3         55219             1152      3037840    46752851  \n",
      "6         89753             1745      1384633    65258007  \n",
      "5         60960              640      3243398    60471198  \n",
      "4        212948             1559      3090566    67847158  \n",
      "0       1142593            17907     13479242   330790544  \n"
     ]
    },
    {
     "data": {
      "image/png": "[encoded data removed]",
      "text/plain": [
       "<Figure size 432x288 with 1 Axes>"
      ]
     },
     "metadata": {
      "needs_background": "light"
     },
     "output_type": "display_data"
    }
   ],
   "source": [
    "#Task 4\n",
    "#Get top 5 countries who has the maximum number of deaths and plot a bar graph\n",
    "most_deaths = sorted_deaths_df.tail(5)\n",
    "print(most_deaths)\n",
    "\n",
    "name = most_deaths[\"country\"]\n",
    "number = most_deaths[\"total_deaths\"]\n",
    "\n",
    "label = name\n",
    "value = number\n",
    "\n",
    "plt.xlabel(\"Countries\")\n",
    "plt.xticks(rotation='vertical')\n",
    "plt.ylabel(\"Number of COVID-19 Deaths\")\n",
    "\n",
    "plt.bar(label,value,width=0.5,color=('orange','lightgreen','grey','black','red'))\n",
    "plt.show()\n",
    "\n"
   ]
  },
  {
   "cell_type": "code",
   "execution_count": 7,
   "metadata": {},
   "outputs": [
    {
     "name": "stdout",
     "output_type": "stream",
     "text": [
      "                   country  total_cases new_cases  total_deaths  new_deaths  \\\n",
      "212  Saint Pierre Miquelon            1         0             0         0.0   \n",
      "180                Eritrea           39         0             0         0.0   \n",
      "192          New Caledonia           18         0             0         0.0   \n",
      "193            Saint Lucia           18         0             0         0.0   \n",
      "177                  Macao           45         0             0         0.0   \n",
      "..                     ...          ...       ...           ...         ...   \n",
      "6                   France       181826         0         28215         0.0   \n",
      "2                   Brazil       310921         0         20082         0.0   \n",
      "4                       UK       250908         0         36042         0.0   \n",
      "1                   Russia       326448      8894          3249       150.0   \n",
      "0                      USA      1621196       294         96359         5.0   \n",
      "\n",
      "     total_recovered  active_cases  active_critical  total_tests  population  \n",
      "212                1             0                0            0        5797  \n",
      "180               39             0                0            0     3540846  \n",
      "192               18             0                0         5454      285193  \n",
      "193               18             0                0          867      183536  \n",
      "177               45             0                0            0      648331  \n",
      "..               ...           ...              ...          ...         ...  \n",
      "6              63858         89753             1745      1384633    65258007  \n",
      "2             125960        164879             8318       735224   212393298  \n",
      "4               1918        212948             1559      3090566    67847158  \n",
      "1              99825        223374             2300      8126626   145927804  \n",
      "0             382244       1142593            17907     13479242   330790544  \n",
      "\n",
      "[213 rows x 10 columns]\n"
     ]
    }
   ],
   "source": [
    "#Task 5\n",
    "#Sort the data as per active cases\n",
    "sorted_activecases_df = df.sort_values(by=['active_cases'])\n",
    "print(sorted_activecases_df)\n"
   ]
  },
  {
   "cell_type": "code",
   "execution_count": 8,
   "metadata": {},
   "outputs": [
    {
     "name": "stdout",
     "output_type": "stream",
     "text": [
      "  country  total_cases new_cases  total_deaths  new_deaths  total_recovered  \\\n",
      "6  France       181826         0         28215         0.0            63858   \n",
      "2  Brazil       310921         0         20082         0.0           125960   \n",
      "4      UK       250908         0         36042         0.0             1918   \n",
      "1  Russia       326448      8894          3249       150.0            99825   \n",
      "0     USA      1621196       294         96359         5.0           382244   \n",
      "\n",
      "   active_cases  active_critical  total_tests  population  \n",
      "6         89753             1745      1384633    65258007  \n",
      "2        164879             8318       735224   212393298  \n",
      "4        212948             1559      3090566    67847158  \n",
      "1        223374             2300      8126626   145927804  \n",
      "0       1142593            17907     13479242   330790544  \n"
     ]
    },
    {
     "data": {
      "image/png": "[encoded data removed]",
      "text/plain": [
       "<Figure size 432x288 with 1 Axes>"
      ]
     },
     "metadata": {
      "needs_background": "light"
     },
     "output_type": "display_data"
    }
   ],
   "source": [
    "#Task 6\n",
    "#Get top 5 countries who has the maximum number of active cases and plot a bar graph\n",
    "active_cases = sorted_activecases_df.tail(5)\n",
    "print(active_cases)\n",
    "\n",
    "name = active_cases[\"country\"]\n",
    "number = active_cases[\"active_cases\"]\n",
    "\n",
    "label = name\n",
    "value = number\n",
    "\n",
    "plt.xlabel(\"Countries\")\n",
    "plt.xticks(rotation='vertical')\n",
    "plt.ylabel(\"Number of Active COVID-19 Cases\")\n",
    "\n",
    "plt.bar(label,value,width=0.5,color=('orange','lightgreen','grey','black','red'))\n",
    "plt.show()"
   ]
  },
  {
   "cell_type": "code",
   "execution_count": 9,
   "metadata": {},
   "outputs": [
    {
     "name": "stdout",
     "output_type": "stream",
     "text": [
      "Thank You!!\n"
     ]
    }
   ],
   "source": [
    "print(\"Thank You!!\")"
   ]
  },
  {
   "cell_type": "code",
   "execution_count": null,
   "metadata": {},
   "outputs": [],
   "source": []
  }
 ],
 "metadata": {
  "kernelspec": {
   "display_name": "Python 3",
   "language": "python",
   "name": "python3"
  },
  "language_info": {
   "codemirror_mode": {
    "name": "ipython",
    "version": 3
   },
   "file_extension": ".py",
   "mimetype": "text/x-python",
   "name": "python",
   "nbconvert_exporter": "python",
   "pygments_lexer": "ipython3",
   "version": "3.8.8"
  }
 },
 "nbformat": 4,
 "nbformat_minor": 4
}
